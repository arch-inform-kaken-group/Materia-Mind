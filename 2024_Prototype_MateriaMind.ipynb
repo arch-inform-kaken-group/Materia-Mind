{
  "nbformat": 4,
  "nbformat_minor": 0,
  "metadata": {
    "colab": {
      "provenance": []
    },
    "kernelspec": {
      "name": "python3",
      "display_name": "Python 3"
    },
    "language_info": {
      "name": "python"
    }
  },
  "cells": [
    {
      "cell_type": "code",
      "execution_count": 3,
      "metadata": {
        "id": "CC4Dh_NWRsFV",
        "colab": {
          "base_uri": "https://localhost:8080/"
        },
        "outputId": "5462e8ec-d1f1-4fee-8ee2-100c5e06e9ce"
      },
      "outputs": [
        {
          "output_type": "stream",
          "name": "stdout",
          "text": [
            "注目領域マスク出力の形状: (8, 64, 64, 64, 1)\n",
            "感覚印象スコア出力の形状: (8, 16)\n"
          ]
        }
      ],
      "source": [
        "import tensorflow as tf\n",
        "import numpy as np\n",
        "\n",
        "class Voxel3DCNNModel(tf.keras.Model):\n",
        "    def __init__(self):\n",
        "        super(Voxel3DCNNModel, self).__init__()\n",
        "        self.encoder_conv1 = tf.keras.layers.Conv3D(filters = 32, kernel_size = 3, activation = 'mish', padding = 'same')\n",
        "        self.encoder_pooling1 = tf.keras.layers.MaxPooling3D(pool_size = 2)\n",
        "        self.encoder_conv2 = tf.keras.layers.Conv3D(filters = 64, kernel_size = 3, activation = 'mish', padding = 'same')\n",
        "        self.encoder_pooling2 = tf.keras.layers.MaxPooling3D(pool_size = 2)\n",
        "        self.encoder_conv3 = tf.keras.layers.Conv3D(filters = 128, kernel_size = 3, activation = 'mish', padding = 'same')\n",
        "        self.encoder_pool3 = tf.keras.layers.MaxPooling3D(pool_size = 2)\n",
        "\n",
        "        self.bottleneck = tf.keras.layers.Conv3D(filters = 256, kernel_size = 3, activation = 'mish', padding = 'same')\n",
        "\n",
        "        self.decoder_up3 = tf.keras.layers.UpSampling3D(size = 2)\n",
        "        self.decoder_conv3 = tf.keras.layers.Conv3D(filters = 128, kernel_size = 3, activation = 'mish', padding = 'same')\n",
        "        self.decoder_up2 = tf.keras.layers.UpSampling3D(size= 2)\n",
        "        self.decoder_conv2 = tf.keras.layers.Conv3D(filters = 64, kernel_size = 3, activation = 'mish', padding = 'same')\n",
        "        self.decoder_up1 = tf.keras.layers.UpSampling3D(size = 2)\n",
        "        self.decoder_conv1 = tf.keras.layers.Conv3D(filters = 32, kernel_size = 3, activation = 'mish', padding = 'same')\n",
        "        #注目領域マスク出力部分\n",
        "        self.decoder_output = tf.keras.layers.Conv3D(filters = 1, kernel_size = 1, activation = 'sigmoid', padding = 'same')\n",
        "\n",
        "        # 感覚印象スコア出力部分\n",
        "        self.flatten = tf.keras.layers.GlobalAveragePooling3D()\n",
        "        self.dense1 = tf.keras.layers.Dense(units = 128, activation = 'mish')\n",
        "        self.dense2 = tf.keras.layers.Dense(units = 64, activation = 'mish')\n",
        "        self.scores_output = tf.keras.layers.Dense(units = 16, activation = 'linear')\n",
        "\n",
        "    def call(self, inputs):\n",
        "        # encoder\n",
        "        x = self.encoder_conv1(inputs)\n",
        "        x = self.encoder_pooling1(x)\n",
        "        x = self.encoder_conv2(x)\n",
        "        x = self.encoder_pooling2(x)\n",
        "        x = self.encoder_conv3(x)\n",
        "        x = self.encoder_pool3(x)\n",
        "\n",
        "        x = self.bottleneck(x)\n",
        "\n",
        "        # decoder\n",
        "        y = self.decoder_up3(x)\n",
        "        y = self.decoder_conv3(y)\n",
        "        y = self.decoder_up2(y)\n",
        "        y = self.decoder_conv2(y)\n",
        "        y = self.decoder_up1(y)\n",
        "        y = self.decoder_conv1(y)\n",
        "        # 注目領域マスク\n",
        "        mask = self.decoder_output(y)\n",
        "\n",
        "        # 感覚印象スコア\n",
        "        z = self.flatten(x)\n",
        "        z = self.dense1(z)\n",
        "        z = self.dense2(z)\n",
        "        scores = self.scores_output(z)\n",
        "        scores = tf.sigmoid(scores) * 4 + 1  # 感覚印象スコアを1～5の範囲へ\n",
        "\n",
        "        return mask, scores\n",
        "\n",
        "\n",
        "\n",
        "# モデル定義\n",
        "model = Voxel3DCNNModel()\n",
        "model.compile(optimizer = tf.keras.optimizers.Adam(),\n",
        "              loss=[tf.keras.losses.BinaryCrossentropy(), tf.keras.losses.MeanAbsoluteError()],\n",
        "              metrics=[tf.keras.metrics.Accuracy(), tf.keras.losses.MeanSquaredError()])\n",
        "\n",
        "\n",
        "# ダミーVoxelデータによる推論動作の確認\n",
        "BATCH_SIZE = 8\n",
        "VOXEL_DEPTH = 64\n",
        "VOXEL_HEIGHT = 64\n",
        "VOXEL_WIDTH = 64\n",
        "NUM_CHANNELS = 4\n",
        "\n",
        "voxel_inputs = np.random.rand(BATCH_SIZE, VOXEL_DEPTH, VOXEL_HEIGHT, VOXEL_WIDTH, NUM_CHANNELS).astype(np.float32)\n",
        "\n",
        "mask_output, scores_output = model(voxel_inputs)\n",
        "\n",
        "print(\"注目領域マスク出力の形状:\", mask_output.shape)\n",
        "print(\"感覚印象スコア出力の形状:\", scores_output.shape)"
      ]
    },
    {
      "cell_type": "code",
      "source": [],
      "metadata": {
        "id": "-7fOc3qcvduI"
      },
      "execution_count": null,
      "outputs": []
    }
  ]
}